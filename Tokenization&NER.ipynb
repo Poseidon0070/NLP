{
 "cells": [
  {
   "cell_type": "code",
   "execution_count": 1,
   "id": "ec3d1df5",
   "metadata": {},
   "outputs": [],
   "source": [
    "# for the purpose we need context as well as language understanding. Spacy provides pre-processing tools for efficient\n",
    "# tokenization into words as well as sentences\n",
    "# we can either create a blank pipeline or pre-trained pipeline using spacy and perform tokenization process easily\n",
    "import spacy"
   ]
  },
  {
   "cell_type": "code",
   "execution_count": 2,
   "id": "f1eb8b4b",
   "metadata": {
    "scrolled": true
   },
   "outputs": [
    {
     "data": {
      "text/plain": [
       "[Musk,\n",
       " was,\n",
       " born,\n",
       " in,\n",
       " Pretoria,\n",
       " ,,\n",
       " South,\n",
       " Africa,\n",
       " ,,\n",
       " and,\n",
       " briefly,\n",
       " attended,\n",
       " the,\n",
       " University,\n",
       " of,\n",
       " Pretoria,\n",
       " before,\n",
       " immigrating,\n",
       " to,\n",
       " ,\n",
       " Canada,\n",
       " at,\n",
       " age,\n",
       " 18,\n",
       " ,,\n",
       " acquiring,\n",
       " citizenship,\n",
       " through,\n",
       " his,\n",
       " Canadian,\n",
       " -,\n",
       " born,\n",
       " mother.[6,\n",
       " ],\n",
       " Two,\n",
       " years,\n",
       " later,\n",
       " ,,\n",
       " he,\n",
       " matriculated,\n",
       " at,\n",
       " Queen,\n",
       " 's,\n",
       " ,\n",
       " University,\n",
       " in,\n",
       " Kingston,\n",
       " ,,\n",
       " Ontario,\n",
       " .,\n",
       " Musk,\n",
       " later,\n",
       " transferred,\n",
       " to,\n",
       " the,\n",
       " University,\n",
       " of,\n",
       " Pennsylvania,\n",
       " ,,\n",
       " and,\n",
       " received,\n",
       " bachelor,\n",
       " 's,\n",
       " degrees,\n",
       " ,\n",
       " in,\n",
       " economics,\n",
       " and,\n",
       " physics,\n",
       " there,\n",
       " .]"
      ]
     },
     "execution_count": 2,
     "metadata": {},
     "output_type": "execute_result"
    }
   ],
   "source": [
    "# blank pipeline specific for english language\n",
    "NLP = spacy.blank(\"en\")\n",
    "doc = NLP('''Musk was born in Pretoria, South Africa, and briefly attended the University of Pretoria before immigrating to \n",
    "Canada at age 18, acquiring citizenship through his Canadian-born mother.[6] Two years later, he matriculated at Queen's \n",
    "University in Kingston, Ontario. Musk later transferred to the University of Pennsylvania, and received bachelor's degrees \n",
    "in economics and physics there.''')\n",
    "tokens = [token for token in doc]\n",
    "tokens"
   ]
  },
  {
   "cell_type": "code",
   "execution_count": 3,
   "id": "28d93aa7",
   "metadata": {
    "scrolled": true
   },
   "outputs": [
    {
     "name": "stdout",
     "output_type": "stream",
     "text": [
      "Musk like number :  False\n",
      "was like number :  False\n",
      "born like number :  False\n",
      "in like number :  False\n",
      "Pretoria like number :  False\n",
      ", like number :  False\n",
      "South like number :  False\n",
      "Africa like number :  False\n",
      ", like number :  False\n",
      "and like number :  False\n",
      "briefly like number :  False\n",
      "attended like number :  False\n",
      "the like number :  False\n",
      "University like number :  False\n",
      "of like number :  False\n",
      "Pretoria like number :  False\n",
      "before like number :  False\n",
      "immigrating like number :  False\n",
      "to like number :  False\n",
      "\n",
      " like number :  False\n",
      "Canada like number :  False\n",
      "at like number :  False\n",
      "age like number :  False\n",
      "18 like number :  True\n",
      ", like number :  False\n",
      "acquiring like number :  False\n",
      "citizenship like number :  False\n",
      "through like number :  False\n",
      "his like number :  False\n",
      "Canadian like number :  False\n",
      "- like number :  False\n",
      "born like number :  False\n",
      "mother.[6 like number :  False\n",
      "] like number :  False\n",
      "Two like number :  True\n",
      "years like number :  False\n",
      "later like number :  False\n",
      ", like number :  False\n",
      "he like number :  False\n",
      "matriculated like number :  False\n",
      "at like number :  False\n",
      "Queen like number :  False\n",
      "'s like number :  False\n",
      "\n",
      " like number :  False\n",
      "University like number :  False\n",
      "in like number :  False\n",
      "Kingston like number :  False\n",
      ", like number :  False\n",
      "Ontario like number :  False\n",
      ". like number :  False\n",
      "Musk like number :  False\n",
      "later like number :  False\n",
      "transferred like number :  False\n",
      "to like number :  False\n",
      "the like number :  False\n",
      "University like number :  False\n",
      "of like number :  False\n",
      "Pennsylvania like number :  False\n",
      ", like number :  False\n",
      "and like number :  False\n",
      "received like number :  False\n",
      "bachelor like number :  False\n",
      "'s like number :  False\n",
      "degrees like number :  False\n",
      "\n",
      " like number :  False\n",
      "in like number :  False\n",
      "economics like number :  False\n",
      "and like number :  False\n",
      "physics like number :  False\n",
      "there like number :  False\n",
      ". like number :  False\n"
     ]
    }
   ],
   "source": [
    "for token in tokens:\n",
    "    print(token, \"like number : \", token.like_num)"
   ]
  },
  {
   "cell_type": "code",
   "execution_count": 4,
   "id": "4b2c84df",
   "metadata": {
    "scrolled": false
   },
   "outputs": [
    {
     "data": {
      "text/plain": [
       "['http://www.data.gov/',\n",
       " 'http://www.science',\n",
       " 'http://data.gov.uk/.',\n",
       " 'http://www3.norc.org/gss+website/',\n",
       " 'http://www.europeansocialsurvey.org/.']"
      ]
     },
     "execution_count": 4,
     "metadata": {},
     "output_type": "execute_result"
    }
   ],
   "source": [
    "text='''\n",
    "Look for data to help you address the question. Governments are good\n",
    "sources because data from public research is often freely available. Good\n",
    "places to start include http://www.data.gov/, and http://www.science.\n",
    "gov/, and in the United Kingdom, http://data.gov.uk/.\n",
    "Two of my favorite data sets are the General Social Survey at http://www3.norc.org/gss+website/, \n",
    "and the European Social Survey at http://www.europeansocialsurvey.org/.\n",
    "'''\n",
    "NLP2 = spacy.blank(\"en\")\n",
    "doc = NLP2(text)\n",
    "URLs = []\n",
    "for token in doc:\n",
    "    if(token.like_url):\n",
    "        URLs.append(token.text)\n",
    "URLs"
   ]
  },
  {
   "cell_type": "code",
   "execution_count": 5,
   "id": "f0f4a427",
   "metadata": {},
   "outputs": [
    {
     "data": {
      "text/plain": [
       "['two $', '500 €']"
      ]
     },
     "execution_count": 5,
     "metadata": {},
     "output_type": "execute_result"
    }
   ],
   "source": [
    "transactions = \"Tony gave two $ to Peter, Bruce gave 500 € to Steve\"\n",
    "doc = NLP2(transactions)\n",
    "doc_len = len(doc)\n",
    "arr = []\n",
    "for i in range(doc_len):\n",
    "    if(i+1 < doc_len):\n",
    "        if(doc[i].like_num and doc[i+1].is_currency):\n",
    "            text = doc[i].text+' '+doc[i+1].text\n",
    "            arr.append(text)\n",
    "arr"
   ]
  },
  {
   "cell_type": "code",
   "execution_count": 6,
   "id": "aab8bbb1",
   "metadata": {},
   "outputs": [
    {
     "data": {
      "text/plain": [
       "[]"
      ]
     },
     "execution_count": 6,
     "metadata": {},
     "output_type": "execute_result"
    }
   ],
   "source": [
    "# We can inculde pre-build language processing pipelines to include multiple components such as tagger, NER etc...\n",
    "NLP.pipe_names"
   ]
  },
  {
   "cell_type": "code",
   "execution_count": 7,
   "id": "2710206e",
   "metadata": {},
   "outputs": [
    {
     "data": {
      "text/plain": [
       "['tok2vec', 'tagger', 'parser', 'attribute_ruler', 'lemmatizer', 'ner']"
      ]
     },
     "execution_count": 7,
     "metadata": {},
     "output_type": "execute_result"
    }
   ],
   "source": [
    "# including custom components\n",
    "nlp = spacy.load(\"en_core_web_sm\")\n",
    "nlp.pipe_names"
   ]
  },
  {
   "cell_type": "code",
   "execution_count": 8,
   "id": "ec80b09d",
   "metadata": {},
   "outputs": [
    {
     "data": {
      "text/plain": [
       "[Elon Musk,\n",
       " Pretoria,\n",
       " South Africa,\n",
       " the University of Pretoria,\n",
       " Canada,\n",
       " age 18,\n",
       " Canadian,\n",
       " Two years later,\n",
       " Queen's \n",
       " University,\n",
       " Kingston,\n",
       " Ontario,\n",
       " Musk later,\n",
       " the University of Pennsylvania]"
      ]
     },
     "execution_count": 8,
     "metadata": {},
     "output_type": "execute_result"
    }
   ],
   "source": [
    "doc = nlp('''Elon Musk was born in Pretoria, South Africa, and briefly attended the University of Pretoria before immigrating to \n",
    "Canada at age 18, acquiring citizenship through his Canadian-born mother.[6] Two years later, he matriculated at Queen's \n",
    "University in Kingston, Ontario. Musk later transferred to the University of Pennsylvania, and received bachelor's degrees \n",
    "in economics and physics there.''')\n",
    "entitites = [ent for ent in doc.ents]\n",
    "entitites"
   ]
  },
  {
   "cell_type": "code",
   "execution_count": 9,
   "id": "8a9173cb",
   "metadata": {},
   "outputs": [
    {
     "ename": "SyntaxError",
     "evalue": "invalid syntax (2125240012.py, line 1)",
     "output_type": "error",
     "traceback": [
      "\u001b[1;36m  Cell \u001b[1;32mIn[9], line 1\u001b[1;36m\u001b[0m\n\u001b[1;33m    import\u001b[0m\n\u001b[1;37m          ^\u001b[0m\n\u001b[1;31mSyntaxError\u001b[0m\u001b[1;31m:\u001b[0m invalid syntax\n"
     ]
    }
   ],
   "source": []
  }
 ],
 "metadata": {
  "kernelspec": {
   "display_name": "Python 3 (ipykernel)",
   "language": "python",
   "name": "python3"
  },
  "language_info": {
   "codemirror_mode": {
    "name": "ipython",
    "version": 3
   },
   "file_extension": ".py",
   "mimetype": "text/x-python",
   "name": "python",
   "nbconvert_exporter": "python",
   "pygments_lexer": "ipython3",
   "version": "3.11.3"
  }
 },
 "nbformat": 4,
 "nbformat_minor": 5
}
