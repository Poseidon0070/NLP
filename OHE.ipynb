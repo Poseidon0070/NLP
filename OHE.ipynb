{
 "cells": [
  {
   "cell_type": "code",
   "execution_count": 1,
   "id": "1fc78480",
   "metadata": {},
   "outputs": [
    {
     "name": "stdout",
     "output_type": "stream",
     "text": [
      "(0, 'red')\n",
      "(1, 'blue')\n",
      "(2, 'green')\n"
     ]
    }
   ],
   "source": [
    "a = ['red','red','red','blue','green','green','blue']\n",
    "p = {c:i for i,c in enumerate(set(a))}\n",
    "for i in enumerate(set(a)):\n",
    "    print(i)"
   ]
  },
  {
   "cell_type": "code",
   "execution_count": 2,
   "id": "9b6fa4ce",
   "metadata": {},
   "outputs": [],
   "source": [
    "import numpy as np"
   ]
  },
  {
   "cell_type": "code",
   "execution_count": 3,
   "id": "cc431082",
   "metadata": {},
   "outputs": [
    {
     "data": {
      "text/plain": [
       "array([[0, 0, 0],\n",
       "       [0, 0, 0],\n",
       "       [0, 0, 0],\n",
       "       [0, 0, 0],\n",
       "       [0, 0, 0],\n",
       "       [0, 0, 0],\n",
       "       [0, 0, 0]])"
      ]
     },
     "execution_count": 3,
     "metadata": {},
     "output_type": "execute_result"
    }
   ],
   "source": [
    "ohe = np.zeros((len(a),len(p)),dtype='int')\n",
    "ohe"
   ]
  },
  {
   "cell_type": "code",
   "execution_count": 4,
   "id": "c8a6651f",
   "metadata": {},
   "outputs": [
    {
     "data": {
      "text/plain": [
       "array([[1, 0, 0],\n",
       "       [1, 0, 0],\n",
       "       [1, 0, 0],\n",
       "       [0, 1, 0],\n",
       "       [0, 0, 1],\n",
       "       [0, 0, 1],\n",
       "       [0, 1, 0]])"
      ]
     },
     "execution_count": 4,
     "metadata": {},
     "output_type": "execute_result"
    }
   ],
   "source": [
    "for i,c in enumerate(a):\n",
    "    ohe[i][p[c]] = 1\n",
    "ohe"
   ]
  },
  {
   "cell_type": "code",
   "execution_count": 14,
   "id": "b71e9380",
   "metadata": {},
   "outputs": [
    {
     "name": "stdout",
     "output_type": "stream",
     "text": [
      "Original Categories: ['Red', 'Green', 'Blue', 'Green', 'Red']\n",
      "One-Hot Encoded Array:\n",
      " [[0. 0. 1.]\n",
      " [0. 1. 0.]\n",
      " [1. 0. 0.]\n",
      " [0. 1. 0.]\n",
      " [0. 0. 1.]]\n"
     ]
    }
   ],
   "source": [
    "from sklearn.preprocessing import OneHotEncoder\n",
    "import numpy as np\n",
    "\n",
    "# List of categorical values\n",
    "categories = [\"Red\", \"Green\", \"Blue\", \"Green\", \"Red\"]\n",
    "\n",
    "# Create an instance of the OneHotEncoder\n",
    "encoder = OneHotEncoder()\n",
    "\n",
    "# Reshape the data to a 2D array (necessary for the encoder)\n",
    "categories_2d = np.array(categories).reshape(-1,1)\n",
    "\n",
    "# Fit and transform the data using the encoder\n",
    "one_hot_encoded = encoder.fit_transform(categories_2d)\n",
    "\n",
    "# Convert the sparse matrix to a dense array\n",
    "one_hot_encoded_array = one_hot_encoded.toarray()\n",
    "\n",
    "print(\"Original Categories:\", categories)\n",
    "print(\"One-Hot Encoded Array:\\n\", one_hot_encoded_array)"
   ]
  },
  {
   "cell_type": "code",
   "execution_count": 31,
   "id": "ddccabe4",
   "metadata": {},
   "outputs": [
    {
     "name": "stdout",
     "output_type": "stream",
     "text": [
      "Original DataFrame:\n",
      "   Color\n",
      "0    Red\n",
      "1  Green\n",
      "2   Blue\n",
      "3  Green\n",
      "4    Red\n",
      "\n",
      "DataFrame with One-Hot Encoded Columns:\n",
      "   Color  Blue  Green  Red\n",
      "0    Red     0      0    1\n",
      "1  Green     0      1    0\n",
      "2   Blue     1      0    0\n",
      "3  Green     0      1    0\n",
      "4    Red     0      0    1\n"
     ]
    }
   ],
   "source": [
    "import pandas as pd\n",
    "\n",
    "# Create a DataFrame with a categorical column\n",
    "data = {'Color': ['Red', 'Green', 'Blue', 'Green', 'Red']}\n",
    "df = pd.DataFrame(data)\n",
    "# Apply one-hot encoding to the 'Color' column\n",
    "one_hot_encoded = pd.get_dummies(df['Color'])\n",
    "\n",
    "# Concatenate the one-hot encoded columns with the original DataFrame\n",
    "df_encoded = pd.concat([df, one_hot_encoded], axis=1)\n",
    "df_encoded\n",
    "print(\"Original DataFrame:\")\n",
    "print(df)\n",
    "\n",
    "print(\"\\nDataFrame with One-Hot Encoded Columns:\")\n",
    "print(df_encoded)"
   ]
  },
  {
   "cell_type": "code",
   "execution_count": null,
   "id": "fbaf7c83",
   "metadata": {},
   "outputs": [],
   "source": []
  }
 ],
 "metadata": {
  "kernelspec": {
   "display_name": "Python 3 (ipykernel)",
   "language": "python",
   "name": "python3"
  },
  "language_info": {
   "codemirror_mode": {
    "name": "ipython",
    "version": 3
   },
   "file_extension": ".py",
   "mimetype": "text/x-python",
   "name": "python",
   "nbconvert_exporter": "python",
   "pygments_lexer": "ipython3",
   "version": "3.11.3"
  }
 },
 "nbformat": 4,
 "nbformat_minor": 5
}
